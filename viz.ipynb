{
 "cells": [
  {
   "cell_type": "code",
   "execution_count": 3,
   "metadata": {},
   "outputs": [],
   "source": [
    "class Account():\n",
    "    def __init__(self, yes_dep, no_deps, balance):\n",
    "        # This state is conditional on this dependency being CORRECT\n",
    "        self.yes_dep = yes_dep\n",
    "        # This state is conditional on these dependencies being INCORRECT\n",
    "        self.no_deps = no_deps\n",
    "        # Account balance\n",
    "        self.balance = balance\n",
    "        self.root_balance = balance\n",
    "    def __repr__(self):\n",
    "        return \"[yes_dep: %r, no_deps: %r, balance: %d]\" % (self.yes_dep, self.no_deps, self.balance)\n",
    "\n",
    "class Transaction():\n",
    "    def __init__(self, sender, receiver, balance):\n",
    "        self.sender = sender\n",
    "        self.receiver = receiver\n",
    "        self.balance = balance\n",
    "    def __repr__(self):\n",
    "        return \"[sender: %r, receiver: %r, balance: %d]\" % (self.sender, self.receiver, self.balance)\n",
    "\n"
   ]
  },
  {
   "cell_type": "code",
   "execution_count": 5,
   "metadata": {},
   "outputs": [],
   "source": [
    "accounts = [Account(\"ABC\",[],50),Account(\"ABC\",[],40)]\n",
    "transactions = [Transaction(1,2,10)]"
   ]
  },
  {
   "cell_type": "code",
   "execution_count": 50,
   "metadata": {},
   "outputs": [],
   "source": [
    "import networkx as nx\n",
    "\n",
    "class Graph():\n",
    "    def __init__(self):\n",
    "        self.G = nx.MultiDiGraph()\n",
    "        self.G.add_node(self.accounts[0])\n",
    "    def addNode(self, node):\n",
    "        self.G.add_node(node)\n",
    "    def addEdge(self, origin, destination):\n",
    "        self.G.add_edge(*(origin,destination))\n",
    "    def render(self):\n",
    "        nx.draw(self.G)\n",
    "        \n",
    "        \n",
    "class VizController():\n",
    "    def __init__(self, shard, account):\n",
    "        self.shard = shard\n",
    "        self.accounts = [account]\n",
    "        self.edges = []\n",
    "    def addAccount(self,account):\n",
    "        self.accounts.append(account)\n",
    "    def addTransaction(self,transaction):\n",
    "        self.edges.append(transaction)\n",
    "        "
   ]
  },
  {
   "cell_type": "code",
   "execution_count": null,
   "metadata": {},
   "outputs": [],
   "source": []
  },
  {
   "cell_type": "code",
   "execution_count": null,
   "metadata": {},
   "outputs": [],
   "source": []
  },
  {
   "cell_type": "code",
   "execution_count": null,
   "metadata": {},
   "outputs": [],
   "source": []
  },
  {
   "cell_type": "code",
   "execution_count": null,
   "metadata": {},
   "outputs": [],
   "source": []
  },
  {
   "cell_type": "code",
   "execution_count": null,
   "metadata": {},
   "outputs": [],
   "source": []
  },
  {
   "cell_type": "code",
   "execution_count": null,
   "metadata": {},
   "outputs": [],
   "source": []
  },
  {
   "cell_type": "code",
   "execution_count": 49,
   "metadata": {},
   "outputs": [
    {
     "data": {
      "image/png": "[encoded data removed]",
      "text/plain": [
       "<Figure size 432x288 with 1 Axes>"
      ]
     },
     "metadata": {},
     "output_type": "display_data"
    }
   ],
   "source": [
    "\n",
    "\n",
    "\n",
    "\n",
    "\n",
    "\n",
    "viz = Viz(1,1)\n",
    "viz.addNode(2)\n",
    "viz.addEdge(1,2)\n",
    "\n",
    "viz.render()"
   ]
  },
  {
   "cell_type": "code",
   "execution_count": 28,
   "metadata": {},
   "outputs": [
    {
     "data": {
      "image/png": "[encoded data removed]",
      "text/plain": [
       "<Figure size 432x288 with 1 Axes>"
      ]
     },
     "metadata": {},
     "output_type": "display_data"
    }
   ],
   "source": [
    "G = nx.MultiDiGraph()\n",
    "G.add_node(1)\n",
    "G.add_node(2)\n",
    "edge = (1, 2)\n",
    "G.add_edge(*edge)\n",
    "nx.draw(G)\n"
   ]
  },
  {
   "cell_type": "code",
   "execution_count": null,
   "metadata": {},
   "outputs": [],
   "source": []
  },
  {
   "cell_type": "code",
   "execution_count": null,
   "metadata": {},
   "outputs": [],
   "source": []
  }
 ],
 "metadata": {
  "kernelspec": {
   "display_name": "Python 3",
   "language": "python",
   "name": "python3"
  },
  "language_info": {
   "codemirror_mode": {
    "name": "ipython",
    "version": 3
   },
   "file_extension": ".py",
   "mimetype": "text/x-python",
   "name": "python",
   "nbconvert_exporter": "python",
   "pygments_lexer": "ipython3",
   "version": "3.7.1"
  }
 },
 "nbformat": 4,
 "nbformat_minor": 2
}
